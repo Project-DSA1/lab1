{
 "cells": [
  {
   "cell_type": "markdown",
   "metadata": {},
   "source": [
    "### Importing functions and classes"
   ]
  },
  {
   "cell_type": "code",
   "execution_count": 88,
   "metadata": {},
   "outputs": [],
   "source": [
    "from IPython.display import HTML,clear_output,display\n",
    "from ipywidgets.widgets import Button,Text,FloatSlider\n",
    "from time import sleep\n",
    "from copy import deepcopy"
   ]
  },
  {
   "cell_type": "markdown",
   "metadata": {},
   "source": [
    "## Work done on the initial idea of the game"
   ]
  },
  {
   "cell_type": "markdown",
   "metadata": {},
   "source": [
    "Some stuff for just looks"
   ]
  },
  {
   "cell_type": "code",
   "execution_count": 89,
   "metadata": {
    "vscode": {
     "languageId": "html"
    }
   },
   "outputs": [
    {
     "data": {
      "text/html": [
       "<style>\n",
       "    td {\n",
       "        color: white;\n",
       "        margin: 1px;\n",
       "        border-radius: 3px;\n",
       "        text-align: center;\n",
       "    }\n",
       "    .board{\n",
       "        border: 2px solid rgb(104, 90, 90);\n",
       "        width: fit-content;\n",
       "        background-color: white;\n",
       "    }\n",
       "    table{\n",
       "        padding: 1px;\n",
       "        border-collapse: separate;\n",
       "        border-spacing: 1px;\n",
       "    }\n",
       "</style>\n"
      ],
      "text/plain": [
       "<IPython.core.display.HTML object>"
      ]
     },
     "metadata": {},
     "output_type": "display_data"
    }
   ],
   "source": [
    "%%HTML\n",
    "<style>\n",
    "    td {\n",
    "        color: white;\n",
    "        margin: 1px;\n",
    "        border-radius: 3px;\n",
    "        text-align: center;\n",
    "    }\n",
    "    .board{\n",
    "        border: 2px solid rgb(104, 90, 90);\n",
    "        width: fit-content;\n",
    "        background-color: white;\n",
    "    }\n",
    "    table{\n",
    "        padding: 1px;\n",
    "        border-collapse: separate;\n",
    "        border-spacing: 1px;\n",
    "    }\n",
    "</style>"
   ]
  },
  {
   "cell_type": "markdown",
   "metadata": {},
   "source": [
    "Making the interface for the game"
   ]
  },
  {
   "cell_type": "code",
   "execution_count": 90,
   "metadata": {},
   "outputs": [
    {
     "name": "stdout",
     "output_type": "stream",
     "text": [
      "Type commands in the textbox, and press the button to play the animation. Toggle the slider to turn on and off the animation.\n"
     ]
    },
    {
     "data": {
      "text/html": [
       "<div class='board'><table>\n",
       " <tr>\n",
       " <td bgcolor=black> &nbsp; <small>2</small> <br> <small>1</small> &nbsp; <big>0</big> &nbsp;&nbsp; <br> &nbsp;</td>\n",
       " <td bgcolor=black> &nbsp; <small>2</small> <br> <small>1</small> &nbsp; <big>0</big> &nbsp;&nbsp; <br> &nbsp;</td>\n",
       " <td bgcolor=black> &nbsp; <small>2</small> <br> <small>1</small> &nbsp; <big>0</big> &nbsp;&nbsp; <br> &nbsp;</td>\n",
       " </tr>\n",
       " <tr>\n",
       " <td bgcolor=black> &nbsp; <small>2</small> <br> <small>1</small> &nbsp; <big>0</big> &nbsp;&nbsp; <br> &nbsp;</td>\n",
       " <td bgcolor=transparent> </td>\n",
       " <td bgcolor=black> &nbsp; <small>2</small> <br> <small>1</small> &nbsp; <big>0</big> &nbsp;&nbsp; <br> &nbsp;</td>\n",
       " </tr>\n",
       " <tr>\n",
       " <td bgcolor=black> &nbsp; <small>2</small> <br> <small>1</small> &nbsp; <big>0</big> &nbsp;&nbsp; <br> &nbsp;</td>\n",
       " <td bgcolor=black> &nbsp; <small>2</small> <br> <small>1</small> &nbsp; <big>0</big> &nbsp;&nbsp; <br> &nbsp;</td>\n",
       " <td bgcolor=black> &nbsp; <small>2</small> <br> <small>1</small> &nbsp; <big>0</big> &nbsp;&nbsp; <br> &nbsp;</td>\n",
       " </tr></table></div>"
      ],
      "text/plain": [
       "<IPython.core.display.HTML object>"
      ]
     },
     "metadata": {},
     "output_type": "display_data"
    },
    {
     "data": {
      "application/vnd.jupyter.widget-view+json": {
       "model_id": "0dd37fac0d87411ea09985fb251139a8",
       "version_major": 2,
       "version_minor": 0
      },
      "text/plain": [
       "Text(value='')"
      ]
     },
     "metadata": {},
     "output_type": "display_data"
    },
    {
     "data": {
      "application/vnd.jupyter.widget-view+json": {
       "model_id": "f6529df800a646ff99808276e92707e3",
       "version_major": 2,
       "version_minor": 0
      },
      "text/plain": [
       "FloatSlider(value=0.0, max=5.0)"
      ]
     },
     "metadata": {},
     "output_type": "display_data"
    },
    {
     "data": {
      "application/vnd.jupyter.widget-view+json": {
       "model_id": "df127eac91b94f95a83a1ec0084377eb",
       "version_major": 2,
       "version_minor": 0
      },
      "text/plain": [
       "Button(description='Play', style=ButtonStyle())"
      ]
     },
     "metadata": {},
     "output_type": "display_data"
    }
   ],
   "source": [
    "M = [\n",
    "    [[1,2],[1,2],[1,2]],\n",
    "    [[1,2],None,[1,2]],\n",
    "    [[1,2],[1,2],[1,2]]\n",
    "]\n",
    "X = None\n",
    "T = [\n",
    "    [X,2,4,X,5,1],\n",
    "    [5,X,0,2,X,3],\n",
    "    [1,3,X,4,0,X],\n",
    "    [X,5,1,X,2,4],\n",
    "    [2,X,3,5,X,0],\n",
    "    [4,0,X,1,3,X]\n",
    "]\n",
    "def Top(x,y):\n",
    "    return T[x][y]\n",
    "def Bottom(x,y):\n",
    "    return T[y][x]\n",
    "def disp(M):\n",
    "    colors = [\"black\",\"darkblue\",\"darkgreen\",\"orange\",\"darkpink\",\"gray\"]\n",
    "    S = \"<div class='board'><table>\"\n",
    "    for row in M:\n",
    "        S += \"\\n <tr>\"\n",
    "        for cell in row:\n",
    "            if cell == None:\n",
    "                S += f\"\\n <td bgcolor=transparent> </td>\"\n",
    "                continue\n",
    "            x = Top(cell[0],cell[1])\n",
    "            S += f\"\\n <td bgcolor={colors[x]}> &nbsp; <small>{cell[1]}</small> <br> <small>{cell[0]}</small> &nbsp; <big>{x}</big> &nbsp;&nbsp; <br> &nbsp;</td>\"\n",
    "        S += \"\\n </tr>\"\n",
    "    S += \"</table></div>\"\n",
    "    display(HTML(S))\n",
    "def L(M):\n",
    "    for i in range(len(M)):\n",
    "        for j in range(len(M[0])):\n",
    "            cell = M[i][j]\n",
    "            if cell == None and j>0:\n",
    "                M[i][j],M[i][j-1]=M[i][j-1],M[i][j]\n",
    "                cell = M[i][j]\n",
    "                cell[0]=Bottom(cell[0],cell[1])\n",
    "                return True\n",
    "    return False\n",
    "def R(M):\n",
    "    for i in range(len(M)):\n",
    "        for j in range(len(M[0])):\n",
    "            cell = M[i][j]\n",
    "            if cell == None and j<len(M[0])-1:\n",
    "                M[i][j],M[i][j+1]=M[i][j+1],M[i][j]\n",
    "                cell = M[i][j]\n",
    "                cell[0]=Top(cell[0],cell[1])\n",
    "                return True\n",
    "    return False  \n",
    "def U(M):\n",
    "    for i in range(len(M)):\n",
    "        for j in range(len(M[0])):\n",
    "            cell = M[i][j]\n",
    "            if cell == None and i>0:\n",
    "                M[i-1][j],M[i][j]=M[i][j],M[i-1][j]\n",
    "                cell = M[i][j]\n",
    "                cell[1]=Bottom(cell[0],cell[1])\n",
    "                return True\n",
    "    return False\n",
    "def D(M):\n",
    "    for i in range(len(M)):\n",
    "        for j in range(len(M[0])):\n",
    "            cell = M[i][j]\n",
    "            if cell == None and i<len(M)-1:\n",
    "                M[i+1][j],M[i][j]=M[i][j],M[i+1][j]\n",
    "                cell = M[i][j]\n",
    "                cell[1]=Top(cell[0],cell[1])\n",
    "                return True\n",
    "    return False\n",
    "Moves = {\n",
    "    \"U\":U,\n",
    "    \"D\":D,\n",
    "    \"L\":L,\n",
    "    \"R\":R,\n",
    "    \"u\":U,\n",
    "    \"d\":D,\n",
    "    \"l\":L,\n",
    "    \"r\":R,\n",
    "}\n",
    "def apply(s,M,dt=0):\n",
    "    for c in s :\n",
    "        Moves[c](M)\n",
    "        if dt>0:\n",
    "            clear_output(True)\n",
    "            disp(M)\n",
    "            sleep(dt)\n",
    "but = Button()\n",
    "but.description=\"Play\"\n",
    "tex = Text()\n",
    "wait = FloatSlider()\n",
    "wait.max=5\n",
    "def play(event):\n",
    "    s = tex.value\n",
    "    dt = float(wait.value)\n",
    "    print(dt)\n",
    "    apply(s,M,dt)\n",
    "    clear_output(True)\n",
    "    disp(M)\n",
    "    display(tex,wait,but)\n",
    "but.on_click(play)\n",
    "print(\"Type commands in the textbox, and press the button to play the animation. Toggle the slider to turn on and off the animation.\")\n",
    "disp(M)\n",
    "display(tex,wait,but)"
   ]
  },
  {
   "cell_type": "markdown",
   "metadata": {},
   "source": [
    "A comutator : ldru rdlu dlur drul = ldrurdllurdrul \\\n",
    "This has order 3\n",
    "\n",
    "Move in 2*2 box : ldru \\\n",
    "This has order 9"
   ]
  },
  {
   "cell_type": "markdown",
   "metadata": {},
   "source": [
    "Trying a very crude BFS"
   ]
  },
  {
   "cell_type": "code",
   "execution_count": 91,
   "metadata": {},
   "outputs": [
    {
     "name": "stdout",
     "output_type": "stream",
     "text": [
      "4\n",
      "7\n",
      "8\n",
      "9\n",
      "11\n",
      "13\n",
      "15\n",
      "17\n",
      "19\n",
      "20\n",
      "21\n",
      "22\n",
      "23\n",
      "24\n",
      "25\n",
      "26\n",
      "found it\n",
      "LUR\n",
      "26\n"
     ]
    }
   ],
   "source": [
    "from copy import deepcopy\n",
    "M0 = [\n",
    "    [[1,2],[1,2],[1,2]],\n",
    "    [[1,2],None,[1,2]],\n",
    "    [[1,2],[1,2],[1,2]]\n",
    "]\n",
    "def eq(M1,M2):\n",
    "    for i in range(len(M1)):\n",
    "        for j in range(len(M1[0])):\n",
    "            if M1[i][j]!=M2[i][j]:\n",
    "                return False\n",
    "    return True\n",
    "MQue = [deepcopy(M0)]\n",
    "SQue = [\"\"]\n",
    "apply(\"ldr\",MQue[0])\n",
    "cur = 0\n",
    "def putChildrenInQue():\n",
    "    global SQue,MQue,Moves,cur\n",
    "    for move in Moves:\n",
    "        m = deepcopy(MQue[cur])\n",
    "        if Moves[move](m):\n",
    "            In = False\n",
    "            for m2 in MQue:\n",
    "                if eq(m,m2):\n",
    "                    In = True\n",
    "                    break\n",
    "            if not In:\n",
    "                SQue.append(SQue[cur]+move)\n",
    "                MQue.append(m)\n",
    "for i in range(100):\n",
    "    if eq(MQue[cur],M0):\n",
    "        print(\"found it\")\n",
    "        print(SQue[cur])\n",
    "        print(len(SQue))\n",
    "        break\n",
    "    putChildrenInQue()\n",
    "    cur += 1\n",
    "    print(len(SQue))"
   ]
  },
  {
   "cell_type": "markdown",
   "metadata": {},
   "source": [
    "Trying to convert matrix to numbers"
   ]
  },
  {
   "cell_type": "code",
   "execution_count": 92,
   "metadata": {},
   "outputs": [],
   "source": [
    "diesits = []\n",
    "for l in range(6):\n",
    "    for u in range(6):\n",
    "        if Top(l,u)!=None:\n",
    "            diesits.append((l,u))\n",
    "def convertToLU(i):\n",
    "    l = i//4\n",
    "    u = i%4\n",
    "    if u>=l-3 and l>=3:\n",
    "        u += 1\n",
    "    if u>=l:\n",
    "        u += 1\n",
    "    if u>=l+3 and l<3:\n",
    "        u += 1\n",
    "    return l,u\n",
    "def convertToI(l,u):\n",
    "    i = l*4 + u\n",
    "    if u > l-3 and l>=3:\n",
    "        i -= 1\n",
    "    if u>=l:\n",
    "        i -= 1\n",
    "    if u>=l+3 and l<3:\n",
    "        i -= 1\n",
    "    return i\n",
    "def ToN(M):\n",
    "    N = 0\n",
    "    for i in range(len(M)):\n",
    "        for j in range(len(M[0])):\n",
    "            if M[i][j]==None:\n",
    "                I,J = i,j\n",
    "                m = deepcopy(M)\n",
    "    for i in range(len(M)):\n",
    "        for j in range(len(M[0])):\n",
    "            if (i!=I or j!=J):\n",
    "                N = N*24 + convertToI(m[i][j][0],m[i][j][1])\n",
    "    N = (24*N) + 3*I+J\n",
    "    return N\n",
    "def To3by3M(N):\n",
    "    M = [[None]*3 for _ in range(3)]\n",
    "    N,n = N//24,N%24\n",
    "    I,J = n//3,n%3\n",
    "    for i in range(2,-1,-1):\n",
    "        for j in range(2,-1,-1):\n",
    "            if i!=I or j !=J:\n",
    "                M[i][j] = convertToLU(N%24)\n",
    "                N=N//24\n",
    "    return M\n"
   ]
  },
  {
   "cell_type": "markdown",
   "metadata": {},
   "source": [
    "## Corrected Question"
   ]
  },
  {
   "cell_type": "markdown",
   "metadata": {},
   "source": [
    "Interface and setup"
   ]
  },
  {
   "cell_type": "code",
   "execution_count": 93,
   "metadata": {},
   "outputs": [
    {
     "data": {
      "text/html": [
       "<table><tr><td bgcolor=black>0</td><td bgcolor=black>0</td><td bgcolor=black>0</td></tr><tr><td bgcolor=black>0</td><td bgcolor=white></td><td bgcolor=black>0</td></tr><tr><td bgcolor=black>0</td><td bgcolor=black>0</td><td bgcolor=black>0</td></tr></table>"
      ],
      "text/plain": [
       "<IPython.core.display.HTML object>"
      ]
     },
     "metadata": {},
     "output_type": "display_data"
    }
   ],
   "source": [
    "MOVES = {\n",
    "    \"L\":[1,3,2,4,0,5],\n",
    "    \"U\":[2,1,3,5,4,0],\n",
    "    \"R\":[4,0,2,1,3,5],\n",
    "    \"D\":[5,1,0,2,4,3]\n",
    "}\n",
    "OFFSETS = {\n",
    "    \"L\":(0,-1),\n",
    "    \"U\":(-1,0),\n",
    "    \"R\":(0,1),\n",
    "    \"D\":(1,0)\n",
    "}\n",
    "X = None\n",
    "M0 = [\n",
    "    [0,0,0],\n",
    "    [0,X,0],\n",
    "    [0,0,0]\n",
    "]\n",
    "loc0 = (1,1)\n",
    "def disp(M):\n",
    "    colors = [\"black\"]+[\"gray\"]*5\n",
    "    S = \"<table>\"\n",
    "    for row in M:\n",
    "        S += '<tr>'\n",
    "        for x in row :\n",
    "            if x==None:\n",
    "                S += f\"<td bgcolor=white></td>\"\n",
    "            else:\n",
    "                S += f\"<td bgcolor={colors[x]}>{x}</td>\"\n",
    "        S += \"</tr>\"\n",
    "    S += \"</table>\"\n",
    "    display(HTML(S))\n",
    "def apply(moves,M,loc,dt=0):\n",
    "    global OFFSETS,MOVES\n",
    "    for move in moves :\n",
    "        i,j = loc\n",
    "        I,J = OFFSETS[move]\n",
    "        I += i\n",
    "        J += j\n",
    "        if I>=0 and I<len(M) and J>=0 and J<len(M[0]):\n",
    "            M[i][j] = MOVES[move][M[I][J]]\n",
    "            M[I][J] = None\n",
    "            loc = (I,J)\n",
    "        if dt > 0:\n",
    "            clear_output(True)\n",
    "            disp(M)\n",
    "            sleep(dt)\n",
    "    return loc\n",
    "def ToN(M,loc):\n",
    "    N = 0\n",
    "    I,J = loc\n",
    "    for i in range(len(M)):\n",
    "        for j in range(len(M[0])):\n",
    "            if i==I and j==J:\n",
    "                continue\n",
    "            N = 6*N + M[i][j]\n",
    "    N = len(M)*len(M[0])*N + len(M[0])*I + J\n",
    "    return N\n",
    "def To3by3M(N):\n",
    "    n,N = N%9,N//9\n",
    "    I,J = n//3,n%3\n",
    "    M=[[None]*3 for _ in range(3)]\n",
    "    for i in range(2,-1,-1):\n",
    "        for j in range(2,-1,-1):\n",
    "            if i==I and j==J:\n",
    "                continue\n",
    "            M[i][j],N = N%6,N//6\n",
    "    loc = (I,J)\n",
    "    return M,loc\n",
    "disp(M0)\n"
   ]
  },
  {
   "cell_type": "markdown",
   "metadata": {},
   "source": [
    "BFS"
   ]
  },
  {
   "cell_type": "code",
   "execution_count": 94,
   "metadata": {},
   "outputs": [],
   "source": [
    "Loops = 0\n",
    "def eq(M1,M2):\n",
    "    for i in range(len(M1)):\n",
    "        for j in range(len(M1[0])):\n",
    "            if M1[i][j]!=M2[i][j]:\n",
    "                return False\n",
    "    return True\n",
    "def works(M=MQue[0]):\n",
    "    global M0\n",
    "    return eq(M,M0)\n",
    "def putChildrenInQue(MQue,LQue,SQue,visited,i=0):\n",
    "    global Loops\n",
    "    M = MQue[i]\n",
    "    loc = LQue[i]\n",
    "    S = SQue[i]\n",
    "    for move in MOVES:\n",
    "        m = deepcopy(M)\n",
    "        newloc = apply(move,m,loc)\n",
    "        if newloc == loc:\n",
    "            continue\n",
    "        N = ToN(m,newloc)\n",
    "        if visited[N]:\n",
    "            Loops += 1\n",
    "            continue\n",
    "        N = ToN(M,loc)\n",
    "        visited[N] = True\n",
    "        s = S + move\n",
    "        MQue.append(m)\n",
    "        LQue.append(newloc)\n",
    "        SQue.append(s)\n",
    "    #MQue.pop(i)\n",
    "    #LQue.pop(i)\n",
    "    #SQue.pop(i)\n",
    "def BFS(M,loc,dt=0):\n",
    "    MQue = [M]\n",
    "    LQue = [loc]\n",
    "    SQue = [\"\"]\n",
    "    visited = [False]*((6**8)*9)\n",
    "    for i in range(10**8):\n",
    "        putChildrenInQue(MQue,LQue,SQue,visited,i)\n",
    "        if works(MQue[i]):\n",
    "            return SQue[i]\n",
    "    print(\"didn't work\")\n"
   ]
  },
  {
   "cell_type": "markdown",
   "metadata": {},
   "source": [
    "## playable game."
   ]
  },
  {
   "cell_type": "code",
   "execution_count": null,
   "metadata": {},
   "outputs": [
    {
     "name": "stdout",
     "output_type": "stream",
     "text": [
      "Our Problem :\n"
     ]
    },
    {
     "data": {
      "text/html": [
       "<table><tr><td bgcolor=gray>4</td><td bgcolor=gray>1</td><td bgcolor=black>0</td></tr><tr><td bgcolor=gray>2</td><td bgcolor=white></td><td bgcolor=black>0</td></tr><tr><td bgcolor=black>0</td><td bgcolor=black>0</td><td bgcolor=black>0</td></tr></table>"
      ],
      "text/plain": [
       "<IPython.core.display.HTML object>"
      ]
     },
     "metadata": {},
     "output_type": "display_data"
    },
    {
     "name": "stdout",
     "output_type": "stream",
     "text": [
      "Our solution : ULDR\n"
     ]
    },
    {
     "data": {
      "application/vnd.jupyter.widget-view+json": {
       "model_id": "1c06f5abc7dc491b8d0ad7550fbb8a8c",
       "version_major": 2,
       "version_minor": 0
      },
      "text/plain": [
       "Text(value='LURD')"
      ]
     },
     "metadata": {},
     "output_type": "display_data"
    },
    {
     "data": {
      "application/vnd.jupyter.widget-view+json": {
       "model_id": "de119f870b2f4a7d8ee7eba877495c80",
       "version_major": 2,
       "version_minor": 0
      },
      "text/plain": [
       "FloatSlider(value=0.7, max=5.0)"
      ]
     },
     "metadata": {},
     "output_type": "display_data"
    },
    {
     "data": {
      "application/vnd.jupyter.widget-view+json": {
       "model_id": "f098173d138e4e95944ad130f5ff903c",
       "version_major": 2,
       "version_minor": 0
      },
      "text/plain": [
       "Button(description='Play', style=ButtonStyle())"
      ]
     },
     "metadata": {},
     "output_type": "display_data"
    },
    {
     "data": {
      "application/vnd.jupyter.widget-view+json": {
       "model_id": "d8dee0eec02a48b0b0ada50b488fc928",
       "version_major": 2,
       "version_minor": 0
      },
      "text/plain": [
       "Button(description='Solve', style=ButtonStyle())"
      ]
     },
     "metadata": {},
     "output_type": "display_data"
    },
    {
     "data": {
      "application/vnd.jupyter.widget-view+json": {
       "model_id": "a0b294f950734d9494b5fc314d3d69fc",
       "version_major": 2,
       "version_minor": 0
      },
      "text/plain": [
       "Button(description='ReSet', style=ButtonStyle())"
      ]
     },
     "metadata": {},
     "output_type": "display_data"
    }
   ],
   "source": [
    "M = [\n",
    "    [0,0,0],\n",
    "    [0,X,0],\n",
    "    [0,0,0]\n",
    "]\n",
    "loc = (1,1)\n",
    "Play = Button()\n",
    "Solve = Button()\n",
    "ReSet = Button()\n",
    "Play.description=\"Play\"\n",
    "Solve.description = \"Solve\"\n",
    "ReSet.description = \"ReSet\"\n",
    "tex = Text()\n",
    "wait = FloatSlider()\n",
    "wait.max=5\n",
    "def Reset(event):\n",
    "    global M,M0,loc,loc0\n",
    "    M = deepcopy(M0)\n",
    "    loc = tuple(loc0)\n",
    "    clear_output(True)\n",
    "    disp(M)\n",
    "    display(tex,wait,Play,Solve,ReSet) \n",
    "def play(event):\n",
    "    global M,loc\n",
    "    s = tex.value\n",
    "    dt = float(wait.value)\n",
    "    print(dt)\n",
    "    loc = apply(s,M,loc,dt)\n",
    "    clear_output(True)\n",
    "    disp(M)\n",
    "    display(tex,wait,Play,Solve,ReSet)    \n",
    "def solve(event):\n",
    "    global M,loc\n",
    "    dt = float(wait.value)\n",
    "    s = BFS(M,loc,dt)\n",
    "    m = deepcopy(M)\n",
    "    clear_output(True)\n",
    "    apply(s,m,loc,dt)\n",
    "    clear_output(True)\n",
    "    print(\"Our Problem :\")\n",
    "    disp(M)\n",
    "    print(\"Our solution :\",s)\n",
    "    display(tex,wait,Play,Solve,ReSet) \n",
    "Play.on_click(play)\n",
    "Solve.on_click(solve)\n",
    "ReSet.on_click(Reset)\n",
    "disp(M)\n",
    "display(tex,wait,Play,Solve,ReSet)"
   ]
  }
 ],
 "metadata": {
  "kernelspec": {
   "display_name": "Python 3",
   "language": "python",
   "name": "python3"
  },
  "language_info": {
   "codemirror_mode": {
    "name": "ipython",
    "version": 3
   },
   "file_extension": ".py",
   "mimetype": "text/x-python",
   "name": "python",
   "nbconvert_exporter": "python",
   "pygments_lexer": "ipython3",
   "version": "3.10.12"
  }
 },
 "nbformat": 4,
 "nbformat_minor": 2
}
